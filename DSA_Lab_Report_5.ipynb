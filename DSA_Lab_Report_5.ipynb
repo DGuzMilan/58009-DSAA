{
  "nbformat": 4,
  "nbformat_minor": 0,
  "metadata": {
    "colab": {
      "provenance": [],
      "authorship_tag": "ABX9TyOaMOCrRnWCqawTRDBC+QGX",
      "include_colab_link": true
    },
    "kernelspec": {
      "name": "python3",
      "display_name": "Python 3"
    },
    "language_info": {
      "name": "python"
    }
  },
  "cells": [
    {
      "cell_type": "markdown",
      "metadata": {
        "id": "view-in-github",
        "colab_type": "text"
      },
      "source": [
        "<a href=\"https://colab.research.google.com/github/AlexaMarieDonato/58009-DSAA/blob/main/DSA_Lab_Report_5.ipynb\" target=\"_parent\"><img src=\"https://colab.research.google.com/assets/colab-badge.svg\" alt=\"Open In Colab\"/></a>"
      ]
    },
    {
      "cell_type": "code",
      "execution_count": null,
      "metadata": {
        "colab": {
          "base_uri": "https://localhost:8080/"
        },
        "id": "CyswNbCoIi9v",
        "outputId": "20221791-890d-43d1-a99a-2e6ebd900f1e"
      },
      "outputs": [
        {
          "output_type": "stream",
          "name": "stdout",
          "text": [
            "[1, 2, 3, 4, 5, 6, 7, 8, 9, 10]\n",
            "1 2 3 4 5 6 7 8 9 10\n",
            "The sum of all the values in the given array is: 55\n"
          ]
        }
      ],
      "source": [
        "#1\n",
        "array = [1, 2, 3, 4, 5, 6, 7, 8, 9, 10]\n",
        "print(array)\n",
        "print(array[0], array[1], array[2], array[3], array[4], array[5], array[6], array[7], array[8], array[9])\n",
        "sum = array[0] + array[1] + array[2] + array[3] + array[4] + array[5] + array[6] + array[7] + array[8] + array[9]\n",
        "print(\"The sum of all the values in the given array is:\", sum)"
      ]
    },
    {
      "cell_type": "code",
      "source": [
        "#2\n",
        "numbers = [1, 2, 3, 4, 5, 6, 7, 8, 9, 10]\n",
        "numbers.append(\"11\")\n",
        "print(numbers)"
      ],
      "metadata": {
        "colab": {
          "base_uri": "https://localhost:8080/"
        },
        "id": "lfV_89-YQx4E",
        "outputId": "b9edeb56-11ac-43d8-acc3-2aba89ce2c4d"
      },
      "execution_count": null,
      "outputs": [
        {
          "output_type": "stream",
          "name": "stdout",
          "text": [
            "[1, 2, 3, 4, 5, 6, 7, 8, 9, 10, '11']\n"
          ]
        }
      ]
    },
    {
      "cell_type": "code",
      "source": [
        "#3\n",
        "numbers = [1, 2, 3, 4, 5, 6, 7, 8, 9, 10]\n",
        "numbers.insert(1, \"11\")\n",
        "print(numbers)"
      ],
      "metadata": {
        "colab": {
          "base_uri": "https://localhost:8080/"
        },
        "id": "DNF5_fFyQyVz",
        "outputId": "efcea8f5-dbe7-4291-fb4b-e6530c80f366"
      },
      "execution_count": null,
      "outputs": [
        {
          "output_type": "stream",
          "name": "stdout",
          "text": [
            "[1, '11', 2, 3, 4, 5, 6, 7, 8, 9, 10]\n"
          ]
        }
      ]
    },
    {
      "cell_type": "code",
      "source": [
        "#4\n",
        "numbers = [5, 4, 3, 2, 1]\n",
        "print(numbers)\n",
        "numbers.reverse()\n",
        "print(\"The reversed version of the given array is:\", numbers)"
      ],
      "metadata": {
        "colab": {
          "base_uri": "https://localhost:8080/"
        },
        "id": "tDXdWA9JQz4M",
        "outputId": "d99bde43-6def-4cab-804d-ce8f42c026de"
      },
      "execution_count": null,
      "outputs": [
        {
          "output_type": "stream",
          "name": "stdout",
          "text": [
            "[5, 4, 3, 2, 1]\n",
            "The reversed version of the given array is: [1, 2, 3, 4, 5]\n"
          ]
        }
      ]
    },
    {
      "cell_type": "code",
      "source": [
        "#5\n",
        "numbers = [5, 4, 3, 2, 1]\n",
        "print(\"The length of the array is:\", len(numbers))"
      ],
      "metadata": {
        "colab": {
          "base_uri": "https://localhost:8080/"
        },
        "id": "Sp22zeHiQ1_z",
        "outputId": "dd0fccd8-0e13-48fe-eb0b-6fa3d444281b"
      },
      "execution_count": null,
      "outputs": [
        {
          "output_type": "stream",
          "name": "stdout",
          "text": [
            "The length of the array is: 5\n"
          ]
        }
      ]
    }
  ]
}