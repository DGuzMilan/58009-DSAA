{
  "nbformat": 4,
  "nbformat_minor": 0,
  "metadata": {
    "colab": {
      "provenance": [],
      "authorship_tag": "ABX9TyNGWjsfGQb5XSDqbeu6Mn2C",
      "include_colab_link": true
    },
    "kernelspec": {
      "name": "python3",
      "display_name": "Python 3"
    },
    "language_info": {
      "name": "python"
    }
  },
  "cells": [
    {
      "cell_type": "markdown",
      "metadata": {
        "id": "view-in-github",
        "colab_type": "text"
      },
      "source": [
        "<a href=\"https://colab.research.google.com/github/DGuzMilan/58009-DSAA/blob/main/DSA_Lab_Report_5.ipynb\" target=\"_parent\"><img src=\"https://colab.research.google.com/assets/colab-badge.svg\" alt=\"Open In Colab\"/></a>"
      ]
    },
    {
      "cell_type": "code",
      "execution_count": 1,
      "metadata": {
        "colab": {
          "base_uri": "https://localhost:8080/"
        },
        "id": "pPXfN-DZVC3v",
        "outputId": "507211a5-de22-42c2-fe67-ce10ac16f2a1"
      },
      "outputs": [
        {
          "output_type": "stream",
          "name": "stdout",
          "text": [
            "[1, 2, 3, 4, 5, 6, 7, 8, 9, 10]\n",
            "1 2 3 4 5 6 7 8 9 10\n",
            "55\n",
            "[1, 2, 3, 4, 5, 6, 7, 8, 9, 10, '11']\n",
            "[1, '11', 2, 3, 4, 5, 6, 7, 8, 9, 10]\n",
            "[1, 2, 3, 4, 5]\n",
            "5\n"
          ]
        }
      ],
      "source": [
        "#1\n",
        "array = [1, 2, 3, 4, 5, 6, 7, 8, 9, 10]\n",
        "print(array)\n",
        "print(array[0], array[1], array[2], array[3], array[4], array[5], array[6], array[7], array[8], array[9])\n",
        "sum = array[0] + array[1] + array[2] + array[3] + array[4] + array[5] + array[6] + array[7] + array[8] + array[9]\n",
        "print(sum)\n",
        "\n",
        "\n",
        "#2\n",
        "array = [1, 2, 3, 4, 5, 6, 7, 8, 9, 10]\n",
        "array.append(\"11\")\n",
        "print(array)\n",
        "\n",
        "\n",
        "#3\n",
        "array = [1, 2, 3, 4, 5, 6, 7, 8, 9, 10]\n",
        "array.insert(1, \"11\")\n",
        "print(array)\n",
        "\n",
        "\n",
        "#4\n",
        "array = [5, 4, 3, 2, 1]\n",
        "array.reverse()\n",
        "print(array)\n",
        "\n",
        "\n",
        "#5\n",
        "array = [5, 4, 3, 2, 1]\n",
        "print(len(array))"
      ]
    }
  ]
}