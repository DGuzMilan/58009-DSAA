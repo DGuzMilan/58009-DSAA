{
  "nbformat": 4,
  "nbformat_minor": 0,
  "metadata": {
    "colab": {
      "provenance": [],
      "authorship_tag": "ABX9TyP0+zEBl5RuQuWVKnk7kyQr",
      "include_colab_link": true
    },
    "kernelspec": {
      "name": "python3",
      "display_name": "Python 3"
    },
    "language_info": {
      "name": "python"
    }
  },
  "cells": [
    {
      "cell_type": "markdown",
      "metadata": {
        "id": "view-in-github",
        "colab_type": "text"
      },
      "source": [
        "<a href=\"https://colab.research.google.com/github/DGuzMilan/58009-DSAA/blob/main/DSA_Lab_Report_4.ipynb\" target=\"_parent\"><img src=\"https://colab.research.google.com/assets/colab-badge.svg\" alt=\"Open In Colab\"/></a>"
      ]
    },
    {
      "cell_type": "code",
      "source": [
        "import numpy as np\n",
        "A = np.array([1, 1, 2, 3, 4, 5, 6, 7, 8])\n",
        "print(\"The repeated integer in the given array is: \")\n",
        "for i in range(0, len(A)):\n",
        "  for j in range(i+1, len(A)):\n",
        "    if (A[i]==A[j]):\n",
        "      print(A[j])"
      ],
      "metadata": {
        "colab": {
          "base_uri": "https://localhost:8080/"
        },
        "id": "i4ygMQez7Yte",
        "outputId": "81bfbdfd-8a89-4585-e5b5-b3d36cae5e8d"
      },
      "execution_count": 21,
      "outputs": [
        {
          "output_type": "stream",
          "name": "stdout",
          "text": [
            "The repeated integer in the given array is: \n",
            "1\n"
          ]
        }
      ]
    },
    {
      "cell_type": "code",
      "source": [
        "def caesarCipher(message, lowercaseShift, uppercaseShift):\n",
        "    lowerAlphabet = \"abcdefghijklmnopqrstuvwxyz\"\n",
        "    upperAlphabet = \"ABCDEFGHIJKLMNOPQRSTUVWXYZ\"\n",
        "    lowerShiftedAlphabet = lowerAlphabet[lowercaseShift:] + lowerAlphabet[:lowercaseShift]\n",
        "    upperShiftedAlphabet = upperAlphabet[uppercaseShift:] + upperAlphabet[:uppercaseShift]\n",
        "    result = \"\"\n",
        "    for X in message:\n",
        "        if X.isalpha():\n",
        "            if X.isupper():\n",
        "                index = upperAlphabet.index(X)\n",
        "                result += upperShiftedAlphabet[index]\n",
        "            else:\n",
        "                index = lowerAlphabet.lower().index(X)\n",
        "                result += lowerShiftedAlphabet[index]\n",
        "        else:\n",
        "            result += X\n",
        "    return result\n",
        "\n",
        "message = input(\"Enter the message to encrypt: \")\n",
        "\n",
        "lowercaseShift = int(input(\"Enter the lowercase shift value: \"))\n",
        "uppercaseShift = int(input(\"Enter the uppercase shift value: \"))\n",
        "\n",
        "print(\"Encoded message:\", caesarCipher(message, lowercaseShift, uppercaseShift))"
      ],
      "metadata": {
        "colab": {
          "base_uri": "https://localhost:8080/"
        },
        "id": "q_S4Fx4V1njc",
        "outputId": "737b8f91-5662-43b0-c429-c9044a4c341a"
      },
      "execution_count": 17,
      "outputs": [
        {
          "output_type": "stream",
          "name": "stdout",
          "text": [
            "Enter the message to encrypt: Data Structures and Algorithms Laboratory\n",
            "Enter the lowercase shift value: 7\n",
            "Enter the uppercase shift value: 7\n",
            "Encoded message: Khah Zaybjabylz huk Hsnvypaotz Shivyhavyf\n"
          ]
        }
      ]
    }
  ]
}