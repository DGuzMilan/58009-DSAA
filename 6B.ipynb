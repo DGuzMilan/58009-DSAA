{
  "nbformat": 4,
  "nbformat_minor": 0,
  "metadata": {
    "colab": {
      "provenance": [],
      "authorship_tag": "ABX9TyNqA/Yva2EQSfVC3aVoZ/Ma",
      "include_colab_link": true
    },
    "kernelspec": {
      "name": "python3",
      "display_name": "Python 3"
    },
    "language_info": {
      "name": "python"
    }
  },
  "cells": [
    {
      "cell_type": "markdown",
      "metadata": {
        "id": "view-in-github",
        "colab_type": "text"
      },
      "source": [
        "<a href=\"https://colab.research.google.com/github/AlexaMarieDonato/58009-DSAA/blob/main/6B.ipynb\" target=\"_parent\"><img src=\"https://colab.research.google.com/assets/colab-badge.svg\" alt=\"Open In Colab\"/></a>"
      ]
    },
    {
      "cell_type": "code",
      "execution_count": 55,
      "metadata": {
        "colab": {
          "base_uri": "https://localhost:8080/"
        },
        "id": "FJ6ECp_naiay",
        "outputId": "d42262e4-0691-4be2-deb4-9345ac39aa07"
      },
      "outputs": [
        {
          "output_type": "stream",
          "name": "stdout",
          "text": [
            "Input A if append, input I if insert:I\n",
            "Enter value to insert here: 01\n",
            "01\n",
            "1\n",
            "2\n",
            "3\n",
            "4\n",
            "Reversing this list, we get:\n",
            "4\n",
            "3\n",
            "2\n",
            "1\n",
            "01\n"
          ]
        }
      ],
      "source": [
        "class Node:\n",
        "  def __init__(self, data = None, next = None, prev = None):\n",
        "    self.data = data\n",
        "    self.next = next\n",
        "    self.prev = prev\n",
        "\n",
        "\n",
        "head = None\n",
        "rear = None\n",
        "\n",
        "class DoublyLinkedList:\n",
        "  def __init__(self):\n",
        "    self.head = head\n",
        "    self.rear = rear\n",
        "  def printnext(self):\n",
        "    temp = self.head\n",
        "    while(temp):\n",
        "      print(temp.data)\n",
        "      temp = temp.next\n",
        "  def printprev(self):\n",
        "    temp = self.rear\n",
        "    while(temp):\n",
        "      print(temp.data)\n",
        "      temp = temp.prev\n",
        "\n",
        "\n",
        "  def display():\n",
        "    if head is None:\n",
        "      print(\"List is empty\")\n",
        "      return\n",
        "    temp = head\n",
        "    print(\"List: \", end=\"\")\n",
        "    while temp is not None:\n",
        "      print(temp.data, end=\"\")\n",
        "      if temp.next is not None:\n",
        "        print(\" -> \", end=\"\")\n",
        "      temp = temp.next\n",
        "    print(\"\\n\")\n",
        "\n",
        "x = input(\"Input A if append, input I if insert:\")\n",
        "if x == \"A\":\n",
        "  if __name__=='__main__':\n",
        "    sequence = DoublyLinkedList()\n",
        "    sequence.head = Node(1)\n",
        "    second = Node(2)\n",
        "    third = Node(3)\n",
        "    fourth = Node(input(\"Insert value to append here: \"))\n",
        "\n",
        "    sequence.head.next = second\n",
        "    second.next = third\n",
        "    third.next = fourth\n",
        "\n",
        "    sequence.rear = fourth\n",
        "    fourth.prev = third\n",
        "    third.prev = second\n",
        "    second.prev = sequence.head\n",
        "\n",
        "elif x == \"I\":\n",
        "    if __name__=='__main__':\n",
        "      sequence = DoublyLinkedList()\n",
        "      sequence.head = Node(input(\"Enter value to insert here: \"))\n",
        "      second = Node(1)\n",
        "      third = Node(2)\n",
        "      fourth = Node(3)\n",
        "      fifth = Node(4)\n",
        "\n",
        "    sequence.head.next = second\n",
        "    second.next = third\n",
        "    third.next = fourth\n",
        "    fourth.next = fifth\n",
        "\n",
        "    sequence.rear = fifth\n",
        "    fifth.prev = fourth\n",
        "    fourth.prev = third\n",
        "    third.prev = second\n",
        "    second.prev = sequence.head\n",
        "\n",
        "sequence.printnext()\n",
        "print(\"Reversing this list, we get:\")\n",
        "sequence.printprev()"
      ]
    }
  ]
}