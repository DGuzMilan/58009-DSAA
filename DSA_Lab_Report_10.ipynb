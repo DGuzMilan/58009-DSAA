{
  "nbformat": 4,
  "nbformat_minor": 0,
  "metadata": {
    "colab": {
      "provenance": [],
      "include_colab_link": true
    },
    "kernelspec": {
      "name": "python3",
      "display_name": "Python 3"
    },
    "language_info": {
      "name": "python"
    }
  },
  "cells": [
    {
      "cell_type": "markdown",
      "metadata": {
        "id": "view-in-github",
        "colab_type": "text"
      },
      "source": [
        "<a href=\"https://colab.research.google.com/github/DGuzMilan/58009-DSAA/blob/main/DSA_Lab_Report_10.ipynb\" target=\"_parent\"><img src=\"https://colab.research.google.com/assets/colab-badge.svg\" alt=\"Open In Colab\"/></a>"
      ]
    },
    {
      "cell_type": "code",
      "execution_count": null,
      "metadata": {
        "colab": {
          "base_uri": "https://localhost:8080/"
        },
        "id": "KX88wcceHUaW",
        "outputId": "e8987e77-b986-4c22-b385-8fa0181630e2"
      },
      "outputs": [
        {
          "output_type": "stream",
          "name": "stdout",
          "text": [
            "Given the tree below:\n",
            "      0\n",
            "   ↙     ↘\n",
            "  1       6\n",
            " ↙ ↘     ↙ ↘\n",
            "2    3   7   9\n",
            "  ↙ ↘  ↙   ↙ ↘\n",
            "  4  5 8  10  11\n",
            "\n",
            "Pre Order Traversal: \n",
            "0 -> 1 -> 2 -> 3 -> 4 -> 5 -> 6 -> 7 -> 8 -> 9 -> 10 -> 11 -> None\n",
            "\n",
            "In Order Traversal: \n",
            "2 -> 1 -> 4 -> 3 -> 5 -> 0 -> 8 -> 7 -> 6 -> 10 -> 9 -> 11 -> None\n",
            "\n",
            "Post Order Traversal: \n",
            "2 -> 4 -> 5 -> 3 -> 1 -> 8 -> 7 -> 10 -> 11 -> 9 -> 6 -> 0 -> None\n"
          ]
        }
      ],
      "source": [
        "print(\"Given the tree below:\")\n",
        "print(\"      0\")\n",
        "print(\"   ↙     ↘\")\n",
        "print(\"  1       6\")\n",
        "print(\" ↙ ↘     ↙ ↘\")\n",
        "print(\"2    3   7   9\")\n",
        "print(\"  ↙ ↘  ↙   ↙ ↘\")\n",
        "print(\"  4  5 8  10  11\")\n",
        "\n",
        "class BinaryTree:\n",
        "  def __init__(self, data):\n",
        "    self.data = data\n",
        "    self.preor = None\n",
        "    self.inor = None\n",
        "    self.postor = None\n",
        "class Node(BinaryTree):\n",
        "  def __init__(self):\n",
        "    self.root = None\n",
        "  def printlist(self):\n",
        "    temp = self.root\n",
        "    while(temp):\n",
        "      print(temp.data)\n",
        "      temp = temp.next\n",
        "  def preOrderNumber(self):\n",
        "    current = self.root\n",
        "    while current:\n",
        "        print(current.data, end=\" -> \")\n",
        "        current = current.preor\n",
        "    print(\"None\")\n",
        "  def inOrderNumber(self):\n",
        "    current = second\n",
        "    while current:\n",
        "        print(current.data, end=\" -> \")\n",
        "        current = current.inor\n",
        "    print(\"None\")\n",
        "  def postOrderNumber(self):\n",
        "    current = second\n",
        "    while current:\n",
        "        print(current.data, end=\" -> \")\n",
        "        current = current.postor\n",
        "    print(\"None\")\n",
        "\n",
        "if __name__=='__main__':\n",
        "  traversal = Node()\n",
        "  traversal.root = BinaryTree(0)\n",
        "  first = BinaryTree(1)\n",
        "  second = BinaryTree(2)\n",
        "  third = BinaryTree(3)\n",
        "  fourth = BinaryTree(4)\n",
        "  fifth = BinaryTree(5)\n",
        "  sixth = BinaryTree(6)\n",
        "  seventh = BinaryTree(7)\n",
        "  eighth = BinaryTree(8)\n",
        "  ninth = BinaryTree(9)\n",
        "  tenth = BinaryTree(10)\n",
        "  eleventh = BinaryTree(11)\n",
        "\n",
        "  traversal.root.preor = first\n",
        "  first.preor = second\n",
        "  second.preor = third\n",
        "  third.preor = fourth\n",
        "  fourth.preor = fifth\n",
        "  fifth.preor = sixth\n",
        "  sixth.preor = seventh\n",
        "  seventh.preor = eighth\n",
        "  eighth.preor = ninth\n",
        "  ninth.preor = tenth\n",
        "  tenth.preor = eleventh\n",
        "\n",
        "  second.inor = first\n",
        "  first.inor = fourth\n",
        "  fourth.inor = third\n",
        "  third.inor = fifth\n",
        "  fifth.inor = traversal.root\n",
        "  traversal.root.inor = eighth\n",
        "  eighth.inor = seventh\n",
        "  seventh.inor = sixth\n",
        "  sixth.inor = tenth\n",
        "  tenth.inor = ninth\n",
        "  ninth.inor = eleventh\n",
        "\n",
        "  second.postor = fourth\n",
        "  fourth.postor = fifth\n",
        "  fifth.postor = third\n",
        "  third.postor = first\n",
        "  first.postor = eighth\n",
        "  eighth.postor = seventh\n",
        "  seventh.postor = tenth\n",
        "  tenth.postor = eleventh\n",
        "  eleventh.postor = ninth\n",
        "  ninth.postor = sixth\n",
        "  sixth.postor = traversal.root\n",
        "\n",
        "print(\"\\nPre Order Traversal: \")\n",
        "traversal.preOrderNumber()\n",
        "print(\"\\nIn Order Traversal: \")\n",
        "traversal.inOrderNumber()\n",
        "print(\"\\nPost Order Traversal: \")\n",
        "traversal.postOrderNumber()"
      ]
    }
  ]
}