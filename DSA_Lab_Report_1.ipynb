{
  "nbformat": 4,
  "nbformat_minor": 0,
  "metadata": {
    "colab": {
      "provenance": []
    },
    "kernelspec": {
      "name": "python3",
      "display_name": "Python 3"
    },
    "language_info": {
      "name": "python"
    }
  },
  "cells": [
    {
      "cell_type": "code",
      "execution_count": 12,
      "metadata": {
        "colab": {
          "base_uri": "https://localhost:8080/"
        },
        "id": "oxZofvKV1BWa",
        "outputId": "29c2272c-9bf2-476f-c0a5-e51199ddc497"
      },
      "outputs": [
        {
          "output_type": "stream",
          "name": "stdout",
          "text": [
            "Enter the number of sides of the polygon here: 3\n",
            "The polygon is a Triangle.\n",
            "Put base value here: 12\n",
            "Put height value here: 6\n",
            "The area of the triangle is : 36.0\n"
          ]
        }
      ],
      "source": [
        "import math\n",
        "class Polygons:\n",
        "  def __init__(self, sides):\n",
        "    self.sides = sides\n",
        "\n",
        "class Triangle(Polygons):\n",
        "  def area(self):\n",
        "    print(\"The polygon is a Triangle.\")\n",
        "    base = int(input(\"Put base value here: \"))\n",
        "    height = int(input(\"Put height value here: \"))\n",
        "    area = float(0.5 * base * height)\n",
        "    print(\"The area of the triangle is :\", area)\n",
        "\n",
        "class Quadrilateral(Polygons):\n",
        "  def area(self):\n",
        "    print(\"The polygon is a Quadrilateral.\")\n",
        "    length = int(input(\"Put length value here: \"))\n",
        "    width = int(input(\"Put width value here: \"))\n",
        "    area = float(length * width)\n",
        "    print(\"The area of the quadrilateral is :\", area)\n",
        "\n",
        "class Hexagon(Polygons):\n",
        "  def area(self):\n",
        "    print(\"The polygon is a Hexagon.\")\n",
        "    side = int(input(\"Put the side value here: \"))\n",
        "    area = float(((3*math.sqrt(3))/2)*(side*side))\n",
        "    print(\"The area of the hexagon is :\", area)\n",
        "\n",
        "sides = int(input(\"Enter the number of sides of the polygon here: \"))\n",
        "if sides == 3:\n",
        "  Triangle.area(Polygons)\n",
        "elif sides == 4:\n",
        "  Quadrilateral.area(Polygons)\n",
        "elif sides == 6:\n",
        "  Hexagon.area(Polygons)\n",
        "else:\n",
        "  print(\"The number of sides is not valid\")"
      ]
    }
  ]
}