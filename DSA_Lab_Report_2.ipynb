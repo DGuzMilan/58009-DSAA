{
  "nbformat": 4,
  "nbformat_minor": 0,
  "metadata": {
    "colab": {
      "provenance": []
    },
    "kernelspec": {
      "name": "python3",
      "display_name": "Python 3"
    },
    "language_info": {
      "name": "python"
    }
  },
  "cells": [
    {
      "cell_type": "code",
      "source": [
        "x = int(input(\"Input initial value of x: \"))\n",
        "\n",
        "if x < 0:\n",
        "  print(\"The value of f(x) is:\", (-1*x))\n",
        "else:\n",
        "  print(\"The value of f(x) is:\", x)"
      ],
      "metadata": {
        "colab": {
          "base_uri": "https://localhost:8080/"
        },
        "id": "1ZpLuIONKHdS",
        "outputId": "aafa6471-45b9-468b-b9c9-91bcf3913692"
      },
      "execution_count": 18,
      "outputs": [
        {
          "output_type": "stream",
          "name": "stdout",
          "text": [
            "Input initial value of x: -7\n",
            "The value of f(x) is: 7\n"
          ]
        }
      ]
    },
    {
      "cell_type": "code",
      "source": [
        "def MinNum(seq, n):\n",
        "\n",
        "    if (n == 1):\n",
        "        return seq[0]\n",
        "    return min(seq[n - 1], MinNum(seq, n - 1))\n",
        "\n",
        "def MaxNum(seq, n):\n",
        "\n",
        "    if (n == 1):\n",
        "        return seq[0]\n",
        "    return max(seq[n - 1], MaxNum(seq, n - 1))\n",
        "\n",
        "if __name__ == '__main__':\n",
        "    seq = [1, -4, 65, 6, -50, 10, -2]\n",
        "    n = len(seq)\n",
        "    print(\"The sequence is: \", seq)\n",
        "    print(\"Lowest number in the sequence is: \", MinNum(seq, n))\n",
        "    print(\"Highest number in the sequence is: \", MaxNum(seq, n))"
      ],
      "metadata": {
        "colab": {
          "base_uri": "https://localhost:8080/"
        },
        "id": "JiZU0S1lILcD",
        "outputId": "b7ca9ea8-8109-4401-b6de-865f09be80b8"
      },
      "execution_count": 11,
      "outputs": [
        {
          "output_type": "stream",
          "name": "stdout",
          "text": [
            "The sequence is:  [1, -4, 65, 6, -50, 10, -2]\n",
            "Lowest number in the sequence is:  -50\n",
            "Highest number in the sequence is:  65\n"
          ]
        }
      ]
    }
  ]
}