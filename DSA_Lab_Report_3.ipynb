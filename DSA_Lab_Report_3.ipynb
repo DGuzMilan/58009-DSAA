{
  "nbformat": 4,
  "nbformat_minor": 0,
  "metadata": {
    "colab": {
      "provenance": [],
      "authorship_tag": "ABX9TyPYJNqHitNOWc+kS7qkDm0f",
      "include_colab_link": true
    },
    "kernelspec": {
      "name": "python3",
      "display_name": "Python 3"
    },
    "language_info": {
      "name": "python"
    }
  },
  "cells": [
    {
      "cell_type": "markdown",
      "metadata": {
        "id": "view-in-github",
        "colab_type": "text"
      },
      "source": [
        "<a href=\"https://colab.research.google.com/github/DGuzMilan/58009-DSAA/blob/main/DSA_Lab_Report_3.ipynb\" target=\"_parent\"><img src=\"https://colab.research.google.com/assets/colab-badge.svg\" alt=\"Open In Colab\"/></a>"
      ]
    },
    {
      "cell_type": "code",
      "execution_count": null,
      "metadata": {
        "colab": {
          "base_uri": "https://localhost:8080/"
        },
        "id": "tFTlBfnYs2QV",
        "outputId": "0845db44-ed4b-4ebb-bd6a-63cc53994b0a"
      },
      "outputs": [
        {
          "output_type": "stream",
          "name": "stdout",
          "text": [
            "Sum of even test scores: 186\n"
          ]
        }
      ],
      "source": [
        "def addEven(scores):\n",
        "    sumOfEven = 0\n",
        "    for score in scores:\n",
        "        if score % 2 == 0:\n",
        "            sumOfEven += score\n",
        "    return sumOfEven\n",
        "\n",
        "testScores = [26, 49, 98, 87, 62, 75]\n",
        "print(\"Sum of even test scores:\", addEven(testScores))"
      ]
    }
  ]
}