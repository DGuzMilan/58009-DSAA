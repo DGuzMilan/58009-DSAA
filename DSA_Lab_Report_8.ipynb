{
  "nbformat": 4,
  "nbformat_minor": 0,
  "metadata": {
    "colab": {
      "provenance": [],
      "authorship_tag": "ABX9TyM52D91rXJUvs6UAD5M4ylV",
      "include_colab_link": true
    },
    "kernelspec": {
      "name": "python3",
      "display_name": "Python 3"
    },
    "language_info": {
      "name": "python"
    }
  },
  "cells": [
    {
      "cell_type": "markdown",
      "metadata": {
        "id": "view-in-github",
        "colab_type": "text"
      },
      "source": [
        "<a href=\"https://colab.research.google.com/github/DGuzMilan/58009-DSAA/blob/main/DSA_Lab_Report_8.ipynb\" target=\"_parent\"><img src=\"https://colab.research.google.com/assets/colab-badge.svg\" alt=\"Open In Colab\"/></a>"
      ]
    },
    {
      "cell_type": "code",
      "execution_count": 2,
      "metadata": {
        "colab": {
          "base_uri": "https://localhost:8080/"
        },
        "id": "UgtXuFoEfcLW",
        "outputId": "28d50138-8e78-4c69-a45e-e8c801b6ac0a"
      },
      "outputs": [
        {
          "output_type": "stream",
          "name": "stdout",
          "text": [
            "The elements in the queue are: []\n",
            "Is the queue empty? True\n",
            "\n",
            "Enqueued Element: 1\n",
            "The elements in the queue are: ['1']\n",
            "\n",
            "Enqueued Element: 2\n",
            "The elements in the queue are: ['1', '2']\n",
            "\n",
            "Enqueued Element: 3\n",
            "The elements in the queue are: ['1', '2', '3']\n",
            "\n",
            "Enqueued Element: 4\n",
            "The elements in the queue are: ['1', '2', '3', '4']\n",
            "\n",
            "Enqueued Element: 5\n",
            "The elements in the queue are: ['1', '2', '3', '4', '5']\n",
            "Is the queue empty? False\n",
            "\n",
            "Dequeued Element: 1\n",
            "The elements in the queue are: ['2', '3', '4', '5']\n",
            "\n",
            "Dequeued Element: 2\n",
            "The elements in the queue are: ['3', '4', '5']\n",
            "\n",
            "Dequeued Element: 3\n",
            "The elements in the queue are: ['4', '5']\n",
            "\n",
            "Dequeued Element: 4\n",
            "The elements in the queue are: ['5']\n",
            "\n",
            "Dequeued Element: 5\n",
            "The elements in the queue are: []\n",
            "Is the queue empty? True\n"
          ]
        }
      ],
      "source": [
        "from collections import deque\n",
        "\n",
        "# Creating a queue\n",
        "def create_queue():\n",
        "  queue = deque()\n",
        "  return queue\n",
        "\n",
        "# Creating an empty queue\n",
        "def is_empty(queue):\n",
        "  return len(queue) == 0\n",
        "\n",
        "# Adding items into the queue\n",
        "def enqueue(queue, item):\n",
        "  queue.append(item)\n",
        "  print(\"\\nEnqueued Element: \" + item)\n",
        "\n",
        "# Removing an element from the queue\n",
        "def dequeue(queue):\n",
        "  if is_empty(queue):\n",
        "    print(\"The queue is empty\")\n",
        "    return None\n",
        "  dequeued = queue.popleft()\n",
        "  print(\"\\nDequeued Element:\", dequeued)\n",
        "  return dequeued\n",
        "\n",
        "# Creating enqueues\n",
        "queue = create_queue()\n",
        "print(\"The elements in the queue are:\", list(queue))\n",
        "print(\"Is the queue empty?\", is_empty(queue))\n",
        "enqueue(queue, str(1))\n",
        "print(\"The elements in the queue are:\", list(queue))\n",
        "enqueue(queue, str(2))\n",
        "print(\"The elements in the queue are:\", list(queue))\n",
        "enqueue(queue, str(3))\n",
        "print(\"The elements in the queue are:\", list(queue))\n",
        "enqueue(queue, str(4))\n",
        "print(\"The elements in the queue are:\", list(queue))\n",
        "enqueue(queue, str(5))\n",
        "print(\"The elements in the queue are:\", list(queue))\n",
        "\n",
        "# Creating dequeues\n",
        "print(\"Is the queue empty?\", is_empty(queue))\n",
        "dequeue(queue)\n",
        "print(\"The elements in the queue are:\", list(queue))\n",
        "dequeue(queue)\n",
        "print(\"The elements in the queue are:\", list(queue))\n",
        "dequeue(queue)\n",
        "print(\"The elements in the queue are:\", list(queue))\n",
        "dequeue(queue)\n",
        "print(\"The elements in the queue are:\", list(queue))\n",
        "dequeue(queue)\n",
        "print(\"The elements in the queue are:\", list(queue))\n",
        "print(\"Is the queue empty?\", is_empty(queue))"
      ]
    }
  ]
}